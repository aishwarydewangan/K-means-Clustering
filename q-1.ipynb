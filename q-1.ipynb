{
 "cells": [
  {
   "cell_type": "code",
   "execution_count": 1,
   "metadata": {},
   "outputs": [],
   "source": [
    "import numpy as np\n",
    "import pandas as pd\n",
    "import sklearn as sk\n",
    "from copy import deepcopy\n",
    "from collections import Counter\n",
    "import matplotlib.pyplot as plt\n",
    "from sklearn.mixture import GaussianMixture\n",
    "from sklearn.cluster import AgglomerativeClustering"
   ]
  },
  {
   "cell_type": "code",
   "execution_count": 2,
   "metadata": {},
   "outputs": [],
   "source": [
    "df = pd.read_csv('Dataset/IntrusionDetection/data.csv')\n",
    "training = df.sample(frac=0.8, random_state=200)\n",
    "training = training.iloc[:, :-1]\n",
    "validation = df.drop(training.index)"
   ]
  },
  {
   "cell_type": "code",
   "execution_count": 3,
   "metadata": {},
   "outputs": [],
   "source": [
    "def covariance_matrix(data):\n",
    "    n = len(list(data.columns.values)[:-1])\n",
    "    sum_mat = np.zeros(shape=(n, n))\n",
    "    prod = None\n",
    "\n",
    "    columns = list(data.columns.values)[:-1]\n",
    "\n",
    "    for col in columns:\n",
    "        m = data[col].mean()\n",
    "        data[col] -= m\n",
    "\n",
    "    for index, row in data.iterrows():\n",
    "        a = np.array(row.values[:-1])\n",
    "        X = np.mat(row.values[:-1])\n",
    "        XT = X.T\n",
    "        prod = XT.dot(X)\n",
    "        sum_mat = sum_mat.__add__(prod)\n",
    "\n",
    "    m = len(data['service'])\n",
    "\n",
    "    cov = sum_mat/m\n",
    "    \n",
    "    return cov"
   ]
  },
  {
   "cell_type": "code",
   "execution_count": 4,
   "metadata": {},
   "outputs": [],
   "source": [
    "def get_k(s):\n",
    "    den = sum(s)\n",
    "    num = 0\n",
    "    for k in range(0, 29):\n",
    "        num += s[k]\n",
    "        retained = num/den\n",
    "        if retained >= 0.90:\n",
    "            break\n",
    "    return k+1"
   ]
  },
  {
   "cell_type": "code",
   "execution_count": 5,
   "metadata": {},
   "outputs": [],
   "source": [
    "def pca(data):\n",
    "    \n",
    "    mean = np.mean(data, axis=0)\n",
    "    std = np.std(data, axis=0)\n",
    "    scaled = (data-mean)/std\n",
    "    cov = np.cov(scaled.T)\n",
    "    \n",
    "    U, S, V = np.linalg.svd(cov)\n",
    "    \n",
    "    k = get_k(S)\n",
    "    \n",
    "    reduced_matrix = U[:, :k]\n",
    "    \n",
    "    z = ((reduced_matrix.T).dot(data.T)).T\n",
    "    \n",
    "    return z, reduced_matrix\n",
    "    \n",
    "z, red_mat = pca(training)"
   ]
  },
  {
   "cell_type": "code",
   "execution_count": 6,
   "metadata": {},
   "outputs": [],
   "source": [
    "def stats(method, clusters, data, k):\n",
    "    print('\\nStats for ', method)\n",
    "    avg = 0.0\n",
    "    total = 0.0\n",
    "    label = df.iloc[:, -1]\n",
    "    for c in range(k):\n",
    "        cluster = []\n",
    "        for i in range(len(data)):\n",
    "            if clusters[i] == c:\n",
    "                cluster.append(label[i])\n",
    "        cluster_label, num_of_occurences = Counter(cluster).most_common(1)[0]\n",
    "        purity = float(num_of_occurences)/len(cluster)\n",
    "        print('Cluster - ' + str(c) + '(' + str(cluster_label) + ') has purity: ' + str(purity))\n",
    "        total += purity\n",
    "    avg = total/5.0\n",
    "    return avg"
   ]
  },
  {
   "cell_type": "code",
   "execution_count": 7,
   "metadata": {},
   "outputs": [
    {
     "name": "stdout",
     "output_type": "stream",
     "text": [
      "\n",
      "Stats for  K-Means\n",
      "Cluster - 0(normal) has purity: 0.6666666666666666\n",
      "Cluster - 1(normal) has purity: 0.6\n",
      "Cluster - 2(normal) has purity: 1.0\n",
      "Cluster - 3(normal) has purity: 0.5\n",
      "Cluster - 4(normal) has purity: 0.6666666666666666\n"
     ]
    }
   ],
   "source": [
    "def kmeans(data):\n",
    "    k = 5\n",
    "    n = len(data)\n",
    "    c = []\n",
    "    for i in range(k):\n",
    "        c.append(data[np.random.randint(0, len(data))])\n",
    "    clusters = np.zeros(n)\n",
    "    \n",
    "    distances = np.zeros((n, k))\n",
    "    centroids = np.array(c, dtype = np.float32)\n",
    "    centroids_old = np.zeros(shape=(5,14))\n",
    "    centroids_new = deepcopy(centroids)\n",
    "    \n",
    "    error = np.linalg.norm(centroids_new - centroids_old)\n",
    "    \n",
    "    while error != 0:\n",
    "        \n",
    "        for i in range(k):\n",
    "            distances[:,i] = np.linalg.norm(data-centroids[i], axis=1)\n",
    "            \n",
    "        clusters = np.argmin(distances, axis=1)\n",
    "        \n",
    "        centroids_old = deepcopy(centroids_new)\n",
    "        \n",
    "        for i in range(k):\n",
    "            centroids_new[i] = np.mean(data[clusters == i], axis=0)\n",
    "        \n",
    "        error = np.linalg.norm(centroids_new - centroids_old)\n",
    "        \n",
    "    return stats('K-Means', clusters, data, k)\n",
    "    \n",
    "avg_km = kmeans(red_mat)"
   ]
  },
  {
   "cell_type": "code",
   "execution_count": 8,
   "metadata": {},
   "outputs": [
    {
     "name": "stdout",
     "output_type": "stream",
     "text": [
      "\n",
      "Stats for  GMM\n",
      "Cluster - 0(normal) has purity: 0.7083333333333334\n",
      "Cluster - 1(dos) has purity: 1.0\n",
      "Cluster - 2(normal) has purity: 1.0\n",
      "Cluster - 3(normal) has purity: 0.5\n",
      "Cluster - 4(probe) has purity: 1.0\n"
     ]
    }
   ],
   "source": [
    "gmm = GaussianMixture(n_components=5)\n",
    "clusters = gmm.fit_predict(red_mat)\n",
    "avg_gmm = stats('GMM', clusters, red_mat, 5)"
   ]
  },
  {
   "cell_type": "code",
   "execution_count": 9,
   "metadata": {},
   "outputs": [
    {
     "name": "stdout",
     "output_type": "stream",
     "text": [
      "\n",
      "Stats for  Hierarchical Clustering\n",
      "Cluster - 0(normal) has purity: 0.64\n",
      "Cluster - 1(probe) has purity: 1.0\n",
      "Cluster - 2(normal) has purity: 1.0\n",
      "Cluster - 3(normal) has purity: 1.0\n",
      "Cluster - 4(normal) has purity: 1.0\n"
     ]
    }
   ],
   "source": [
    "hierarchical = AgglomerativeClustering(n_clusters=5, linkage='single')\n",
    "clusters = hierarchical.fit_predict(red_mat)\n",
    "avg_hc = stats('Hierarchical Clustering', clusters, red_mat, 5)"
   ]
  },
  {
   "cell_type": "code",
   "execution_count": 10,
   "metadata": {},
   "outputs": [
    {
     "data": {
      "image/png": "[encoded data removed]",
      "text/plain": [
       "<Figure size 720x720 with 1 Axes>"
      ]
     },
     "metadata": {},
     "output_type": "display_data"
    }
   ],
   "source": [
    "labels = 'K-Means', 'GMM', 'Hierarchical Clustering'\n",
    "sizes = [avg_km ,avg_gmm, avg_hc]\n",
    "colors = ['gold', 'lightcoral', 'lightskyblue']\n",
    "explode = (0.05, 0.05, 0.05)\n",
    " \n",
    "plt.figure(figsize=(10,10))\n",
    "plt.pie(sizes, explode=explode, labels=labels, colors=colors,autopct='%f%%', shadow=True, startangle=180)\n",
    " \n",
    "plt.axis('equal')\n",
    "plt.show()"
   ]
  },
  {
   "cell_type": "code",
   "execution_count": null,
   "metadata": {},
   "outputs": [],
   "source": []
  }
 ],
 "metadata": {
  "kernelspec": {
   "display_name": "Python 3",
   "language": "python",
   "name": "python3"
  },
  "language_info": {
   "codemirror_mode": {
    "name": "ipython",
    "version": 3
   },
   "file_extension": ".py",
   "mimetype": "text/x-python",
   "name": "python",
   "nbconvert_exporter": "python",
   "pygments_lexer": "ipython3",
   "version": "3.7.3"
  }
 },
 "nbformat": 4,
 "nbformat_minor": 2
}
